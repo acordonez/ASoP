{
 "cells": [
  {
   "cell_type": "code",
   "execution_count": 1,
   "metadata": {},
   "outputs": [],
   "source": [
    "import sys\n",
    "sys.path.append('/home/nick/python/asop_global/ASoP-Coherence')\n",
    "import asop_coherence as asop\n",
    "from asop_coherence_global_temporal import load_cmip6,mask_wet_season,mask_min_precip\n",
    "import iris\n",
    "from pathlib import Path\n",
    "import numpy as np\n",
    "import warnings\n",
    "warnings.filterwarnings(\"ignore\")\n",
    "import iris.coord_categorisation\n",
    "from iris.experimental.equalise_cubes import equalise_attributes\n",
    "from iris.util import unify_time_units\n",
    "import dask\n",
    "from dask.distributed import Client,progress"
   ]
  },
  {
   "cell_type": "code",
   "execution_count": 2,
   "metadata": {},
   "outputs": [],
   "source": [
    "def haversine(origin, destination):\n",
    "    import math\n",
    "\n",
    "    lat1, lon1 = origin\n",
    "    lat2, lon2 = destination\n",
    "    radius = 6371 # km\n",
    "\n",
    "    dlat = math.radians(lat2-lat1)\n",
    "    dlon = math.radians(lon2-lon1)\n",
    "    a = math.sin(dlat/2) * math.sin(dlat/2) + math.cos(math.radians(lat1)) \\\n",
    "        * math.cos(math.radians(lat2)) * math.sin(dlon/2) * math.sin(dlon/2)\n",
    "    c = 2 * math.atan2(math.sqrt(a), math.sqrt(1-a))\n",
    "    d = radius * c\n",
    "\n",
    "    return d"
   ]
  },
  {
   "cell_type": "code",
   "execution_count": 3,
   "metadata": {},
   "outputs": [],
   "source": [
    "def get_asop_dict(key):\n",
    "    cmip6_path=Path('/media/nick/lacie_tb3/data_from_gill/CMIP6')\n",
    "    obs_path=Path('/media/nick/data')\n",
    "    if key == 'GPM_IMERG':\n",
    "        asop_dict={\n",
    "            'desc': '3B-HHR.MS.MRG.3IMERG.V06B.3hr_means_3x3',\n",
    "            'dir': obs_path/'GPM_IMERG',\n",
    "            'file_pattern': '3B-HHR.MS.MRG.3IMERG.*.3hr_means_3x3.V06B.nc',\n",
    "            'name': 'IMERG-3B-V06',\n",
    "            'start_year': 2001,\n",
    "            'stop_year': 2001,\n",
    "            'dt': 10800,\n",
    "            'legend_name': 'IMERG',\n",
    "            'region': [-60,60,0,360],\n",
    "            'color': 'black',\n",
    "            'symbol': '>',\n",
    "            'region_size': 3,\n",
    "            'lag_length': 2,\n",
    "            'dx': 330,\n",
    "            'dy': 330\n",
    "        }\n",
    "    else:\n",
    "        raise Exception('No dictionary for '+key)\n",
    "    return(asop_dict)"
   ]
  },
  {
   "cell_type": "code",
   "execution_count": 12,
   "metadata": {},
   "outputs": [],
   "source": [
    "def compute_equalgrid_corr_global(precip,distance_bins):\n",
    "    longitude = precip.coord('longitude')\n",
    "    nlon=len(longitude.points)\n",
    "    latitude = precip.coord('latitude')\n",
    "    nlat=len(latitude.points)\n",
    "    time = precip.coord('time')\n",
    "    ntime=len(time.points)\n",
    "    nbins = len(distance_bins)-1\n",
    "    dist_centre = np.zeros(nbins)\n",
    "    min_dist = np.zeros(nbins)\n",
    "    max_dist = np.zeros(nbins)\n",
    "    bounds = np.zeros((nbins,2))\n",
    "    for b,left in enumerate(distance_bins[0:-1]):\n",
    "        min_dist[b] = left\n",
    "        max_dist[b] = distance_bins[b+1]\n",
    "        dist_centre[b] = (max_dist[b]+min_dist[b])/2.0\n",
    "        bounds[b,:] = np.asarray((min_dist[b],max_dist[b]))\n",
    "    distance = iris.coords.DimCoord(dist_centre,var_name='distance',bounds=bounds)\n",
    "    distance_corrs = iris.cube.Cube(np.zeros((nbins,nlat,nlon)),var_name='distance_correlations',dim_coords_and_dims=[(distance,0),(latitude,1),(longitude,2)])\n",
    "\n",
    "    for y,latpt in enumerate(latitude.points):\n",
    "        dask_distcorr=[]\n",
    "        for x,lonpt in enumerate(longitude.points):\n",
    "            for b in range(nbins):\n",
    "                precip_mask = extract_mask_region(precip,latpt,lonpt,min_dist[b],max_dist[b])\n",
    "                this_distcorr = dask.delayed(compute_gridcorr_grid)(precip[:,y,x],precip_mask)\n",
    "                dask_distcorr.append(this_distcorr)\n",
    "        result = dask.compute(*dask_distcorr)\n",
    "        result = np.ma.asarray(result)\n",
    "        print(np.shape(result))\n",
    "    return(distance_corrs)\n"
   ]
  },
  {
   "cell_type": "code",
   "execution_count": 32,
   "metadata": {},
   "outputs": [],
   "source": [
    "def extract_mask_region(precip,centre_lat,centre_lon,dist_min,dist_max):\n",
    "    longitude = precip.coord('longitude')\n",
    "    nlon=len(longitude.points)\n",
    "    latitude = precip.coord('latitude')\n",
    "    nlat=len(latitude.points)\n",
    "    time = precip.coord('time')\n",
    "    ntime=len(time.points)\n",
    "    pt_dist = np.ones((nlat,nlon))\n",
    "    dN = 0 ; dS = 0 ; dE = 0 ; dW = 0\n",
    "    for yy,target_lat in enumerate(latitude.points):\n",
    "        for xx,target_lon in enumerate(longitude.points):\n",
    "            pt_dist[yy,xx] = haversine((centre_lat,centre_lon),(target_lat,target_lon))\n",
    "            if pt_dist[yy,xx] <= dist_max:\n",
    "                dN = np.amax([dN,target_lat-centre_lat])\n",
    "                dS = np.amin([dS,target_lat-centre_lat])\n",
    "                dE = np.amax([dE,target_lon-centre_lon])\n",
    "                dW = np.amin([dW,target_lon-centre_lon])\n",
    "    print(centre_lon,centre_lat,dN,dS,dE,dW,centre_lon+dW,centre_lon+dE)\n",
    "#    if lonmin <= c\n",
    "    subset = precip.intersection(longitude = (centre_lon+dW,centre_lon+dE),latitude=(centre_lat-dS,centre_lat+dN))\n",
    "    print(subset)\n",
    "    dist_mask = np.ones_like(subset.data)\n",
    "    for yy,target_lat in enumerate(subset.coord('latitude').points):\n",
    "        for xx,target_lon in enumerate(subset.coord('longitude').points):\n",
    "            pt_dist = haversine((centre_lat,centre_lon),(target_lat,target_lon))\n",
    "            if pt_dist >= dist_min and pt_dist <= dist_max:\n",
    "                dist_mask.data[:,yy,xx] = 0\n",
    "    subset_mask = subset.copy(data=np.ma.array(subset.data,mask=dist_mask))\n",
    "    return(subset_mask)"
   ]
  },
  {
   "cell_type": "code",
   "execution_count": 6,
   "metadata": {},
   "outputs": [],
   "source": [
    "def compute_gridcorr_grid(precip,grid):\n",
    "    import iris.analysis.stats as istats\n",
    "    corr_map = istats.pearsonr(precip,grid,corr_coords='time')\n",
    "    weights = iris.analysis.cartography.area_weights(corr_map)\n",
    "    output=corr_map.collapsed(['longitude','latitude'],iris.analysis.MEAN,weights=weights)\n",
    "    return(output.data)"
   ]
  },
  {
   "cell_type": "code",
   "execution_count": 7,
   "metadata": {},
   "outputs": [],
   "source": [
    "client = Client()\n",
    "dataset='GPM_IMERG'\n",
    "asop_dict = get_asop_dict(dataset)"
   ]
  },
  {
   "cell_type": "code",
   "execution_count": 8,
   "metadata": {},
   "outputs": [],
   "source": [
    "precip = load_cmip6(asop_dict)\n",
    "masked_precip = mask_wet_season(precip)\n",
    "masked_precip = mask_min_precip(masked_precip)"
   ]
  },
  {
   "cell_type": "code",
   "execution_count": 33,
   "metadata": {
    "tags": [
     "outputPrepend",
     "outputPrepend",
     "outputPrepend",
     "outputPrepend"
    ]
   },
   "outputs": [
    {
     "output_type": "stream",
     "name": "stdout",
     "text": "1.5 -61.5 3.0 0.0 357.0 0.0 1.5 358.5\nprecipitation_flux / (mm/hr)        (time: 2920; latitude: 2; longitude: 120)\n     Dimension coordinates:\n          time                           x               -             -\n          latitude                       -               x             -\n          longitude                      -               -             x\n     Auxiliary coordinates:\n          hour                           x               -             -\n          month_number                   x               -             -\n          year                           x               -             -\n     Attributes:\n          NCO: netCDF Operators version 4.8.1 (Homepage = http://nco.sf.net, Code = h...\n     Cell methods:\n          mean: time\n1.5 -61.5 6.0 0.0 357.0 0.0 1.5 358.5\nprecipitation_flux / (mm/hr)        (time: 2920; latitude: 3; longitude: 120)\n     Dimension coordinates:\n          time                           x               -             -\n          latitude                       -               x             -\n          longitude                      -               -             x\n     Auxiliary coordinates:\n          hour                           x               -             -\n          month_number                   x               -             -\n          year                           x               -             -\n     Attributes:\n          NCO: netCDF Operators version 4.8.1 (Homepage = http://nco.sf.net, Code = h...\n     Cell methods:\n          mean: time\n1.5 -61.5 12.0 0.0 357.0 0.0 1.5 358.5\nprecipitation_flux / (mm/hr)        (time: 2920; latitude: 5; longitude: 120)\n     Dimension coordinates:\n          time                           x               -             -\n          latitude                       -               x             -\n          longitude                      -               -             x\n     Auxiliary coordinates:\n          hour                           x               -             -\n          month_number                   x               -             -\n          year                           x               -             -\n     Attributes:\n          NCO: netCDF Operators version 4.8.1 (Homepage = http://nco.sf.net, Code = h...\n     Cell methods:\n          mean: time\n4.5 -61.5 3.0 0.0 354.0 -3.0 1.5 358.5\nprecipitation_flux / (mm/hr)        (time: 2920; latitude: 2; longitude: 120)\n     Dimension coordinates:\n          time                           x               -             -\n          latitude                       -               x             -\n          longitude                      -               -             x\n     Auxiliary coordinates:\n          hour                           x               -             -\n          month_number                   x               -             -\n          year                           x               -             -\n     Attributes:\n          NCO: netCDF Operators version 4.8.1 (Homepage = http://nco.sf.net, Code = h...\n     Cell methods:\n          mean: time\n4.5 -61.5 6.0 0.0 354.0 -3.0 1.5 358.5\nprecipitation_flux / (mm/hr)        (time: 2920; latitude: 3; longitude: 120)\n     Dimension coordinates:\n          time                           x               -             -\n          latitude                       -               x             -\n          longitude                      -               -             x\n     Auxiliary coordinates:\n          hour                           x               -             -\n          month_number                   x               -             -\n          year                           x               -             -\n     Attributes:\n          NCO: netCDF Operators version 4.8.1 (Homepage = http://nco.sf.net, Code = h...\n     Cell methods:\n          mean: time\n4.5 -61.5 12.0 0.0 354.0 -3.0 1.5 358.5\nprecipitation_flux / (mm/hr)        (time: 2920; latitude: 5; longitude: 120)\n     Dimension coordinates:\n          time                           x               -             -\n          latitude                       -               x             -\n          longitude                      -               -             x\n     Auxiliary coordinates:\n          hour                           x               -             -\n          month_number                   x               -             -\n          year                           x               -             -\n     Attributes:\n          NCO: netCDF Operators version 4.8.1 (Homepage = http://nco.sf.net, Code = h...\n     Cell methods:\n          mean: time\n7.5 -61.5 3.0 0.0 6.0 -6.0 1.5 13.5\nprecipitation_flux / (mm/hr)        (time: 2920; latitude: 2; longitude: 5)\n     Dimension coordinates:\n          time                           x               -             -\n          latitude                       -               x             -\n          longitude                      -               -             x\n     Auxiliary coordinates:\n          hour                           x               -             -\n          month_number                   x               -             -\n          year                           x               -             -\n     Attributes:\n          NCO: netCDF Operators version 4.8.1 (Homepage = http://nco.sf.net, Code = h...\n     Cell methods:\n          mean: time\n7.5 -61.5 6.0 0.0 351.0 -6.0 1.5 358.5\nprecipitation_flux / (mm/hr)        (time: 2920; latitude: 3; longitude: 120)\n     Dimension coordinates:\n          time                           x               -             -\n          latitude                       -               x             -\n          longitude                      -               -             x\n     Auxiliary coordinates:\n          hour                           x               -             -\n          month_number                   x               -             -\n          year                           x               -             -\n     Attributes:\n          NCO: netCDF Operators version 4.8.1 (Homepage = http://nco.sf.net, Code = h...\n     Cell methods:\n          mean: time\n7.5 -61.5 12.0 0.0 351.0 -6.0 1.5 358.5\nprecipitation_flux / (mm/hr)        (time: 2920; latitude: 5; longitude: 120)\n     Dimension coordinates:\n          time                           x               -             -\n          latitude                       -               x             -\n          longitude                      -               -             x\n     Auxiliary coordinates:\n          hour                           x               -             -\n          month_number                   x               -             -\n          year                           x               -             -\n     Attributes:\n          NCO: netCDF Operators version 4.8.1 (Homepage = http://nco.sf.net, Code = h...\n     Cell methods:\n          mean: time\n10.5 -61.5 3.0 0.0 6.0 -6.0 4.5 16.5\nprecipitation_flux / (mm/hr)        (time: 2920; latitude: 2; longitude: 5)\n     Dimension coordinates:\n          time                           x               -             -\n          latitude                       -               x             -\n          longitude                      -               -             x\n     Auxiliary coordinates:\n          hour                           x               -             -\n          month_number                   x               -             -\n          year                           x               -             -\n     Attributes:\n          NCO: netCDF Operators version 4.8.1 (Homepage = http://nco.sf.net, Code = h...\n     Cell methods:\n          mean: time\n10.5 -61.5 6.0 0.0 348.0 -9.0 1.5 358.5\nprecipitation_flux / (mm/hr)        (time: 2920; latitude: 3; longitude: 120)\n     Dimension coordinates:\n          time                           x               -             -\n          latitude                       -               x             -\n          longitude                      -               -             x\n     Auxiliary coordinates:\n          hour                           x               -             -\n          month_number                   x               -             -\n          year                           x               -             -\n     Attributes:\n          NCO: netCDF Operators version 4.8.1 (Homepage = http://nco.sf.net, Code = h...\n     Cell methods:\n          mean: time\n10.5 -61.5 12.0 0.0 348.0 -9.0 1.5 358.5\nprecipitation_flux / (mm/hr)        (time: 2920; latitude: 5; longitude: 120)\n     Dimension coordinates:\n          time                           x               -             -\n          latitude                       -               x             -\n          longitude                      -               -             x\n     Auxiliary coordinates:\n          hour                           x               -             -\n          month_number                   x               -             -\n          year                           x               -             -\n     Attributes:\n          NCO: netCDF Operators version 4.8.1 (Homepage = http://nco.sf.net, Code = h...\n     Cell methods:\n          mean: time\n13.5 -61.5 3.0 0.0 6.0 -6.0 7.5 19.5\nprecipitation_flux / (mm/hr)        (time: 2920; latitude: 2; longitude: 5)\n     Dimension coordinates:\n          time                           x               -             -\n          latitude                       -               x             -\n          longitude                      -               -             x\n     Auxiliary coordinates:\n          hour                           x               -             -\n          month_number                   x               -             -\n          year                           x               -             -\n     Attributes:\n          NCO: netCDF Operators version 4.8.1 (Homepage = http://nco.sf.net, Code = h...\n     Cell methods:\n          mean: time\n13.5 -61.5 6.0 0.0 345.0 -12.0 1.5 358.5\nprecipitation_flux / (mm/hr)        (time: 2920; latitude: 3; longitude: 120)\n     Dimension coordinates:\n          time                           x               -             -\n          latitude                       -               x             -\n          longitude                      -               -             x\n     Auxiliary coordinates:\n          hour                           x               -             -\n          month_number                   x               -             -\n          year                           x               -             -\n     Attributes:\n          NCO: netCDF Operators version 4.8.1 (Homepage = http://nco.sf.net, Code = h...\n     Cell methods:\n          mean: time\n13.5 -61.5 12.0 0.0 345.0 -12.0 1.5 358.5\nprecipitation_flux / (mm/hr)        (time: 2920; latitude: 5; longitude: 120)\n     Dimension coordinates:\n          time                           x               -             -\n          latitude                       -               x             -\n          longitude                      -               -             x\n     Auxiliary coordinates:\n          hour                           x               -             -\n          month_number                   x               -             -\n          year                           x               -             -\n     Attributes:\n          NCO: netCDF Operators version 4.8.1 (Homepage = http://nco.sf.net, Code = h...\n     Cell methods:\n          mean: time\n16.5 -61.5 3.0 0.0 6.0 -6.0 10.5 22.5\nprecipitation_flux / (mm/hr)        (time: 2920; latitude: 2; longitude: 5)\n     Dimension coordinates:\n          time                           x               -             -\n          latitude                       -               x             -\n          longitude                      -               -             x\n     Auxiliary coordinates:\n          hour                           x               -             -\n          month_number                   x               -             -\n          year                           x               -             -\n     Attributes:\n          NCO: netCDF Operators version 4.8.1 (Homepage = http://nco.sf.net, Code = h...\n     Cell methods:\n          mean: time\n16.5 -61.5 6.0 0.0 15.0 -15.0 1.5 31.5\nprecipitation_flux / (mm/hr)        (time: 2920; latitude: 3; longitude: 11)\n     Dimension coordinates:\n          time                           x               -             -\n          latitude                       -               x             -\n          longitude                      -               -             x\n     Auxiliary coordinates:\n          hour                           x               -             -\n          month_number                   x               -             -\n          year                           x               -             -\n     Attributes:\n          NCO: netCDF Operators version 4.8.1 (Homepage = http://nco.sf.net, Code = h...\n     Cell methods:\n          mean: time\n16.5 -61.5 12.0 0.0 342.0 -15.0 1.5 358.5\n"
    },
    {
     "output_type": "error",
     "ename": "KeyboardInterrupt",
     "evalue": "",
     "traceback": [
      "\u001b[0;31m---------------------------------------------------------------------------\u001b[0m",
      "\u001b[0;31mKeyboardInterrupt\u001b[0m                         Traceback (most recent call last)",
      "\u001b[0;32m<ipython-input-33-bbcb717dbe82>\u001b[0m in \u001b[0;36m<module>\u001b[0;34m\u001b[0m\n\u001b[0;32m----> 1\u001b[0;31m \u001b[0mtest\u001b[0m \u001b[0;34m=\u001b[0m \u001b[0mcompute_equalgrid_corr_global\u001b[0m\u001b[0;34m(\u001b[0m\u001b[0mmasked_precip\u001b[0m\u001b[0;34m,\u001b[0m\u001b[0;34m[\u001b[0m\u001b[0;36m0\u001b[0m\u001b[0;34m,\u001b[0m\u001b[0;36m450\u001b[0m\u001b[0;34m,\u001b[0m\u001b[0;36m900\u001b[0m\u001b[0;34m,\u001b[0m\u001b[0;36m1350\u001b[0m\u001b[0;34m]\u001b[0m\u001b[0;34m)\u001b[0m\u001b[0;34m\u001b[0m\u001b[0;34m\u001b[0m\u001b[0m\n\u001b[0m",
      "\u001b[0;32m<ipython-input-12-65da037749d2>\u001b[0m in \u001b[0;36mcompute_equalgrid_corr_global\u001b[0;34m(precip, distance_bins)\u001b[0m\n\u001b[1;32m     23\u001b[0m         \u001b[0;32mfor\u001b[0m \u001b[0mx\u001b[0m\u001b[0;34m,\u001b[0m\u001b[0mlonpt\u001b[0m \u001b[0;32min\u001b[0m \u001b[0menumerate\u001b[0m\u001b[0;34m(\u001b[0m\u001b[0mlongitude\u001b[0m\u001b[0;34m.\u001b[0m\u001b[0mpoints\u001b[0m\u001b[0;34m)\u001b[0m\u001b[0;34m:\u001b[0m\u001b[0;34m\u001b[0m\u001b[0;34m\u001b[0m\u001b[0m\n\u001b[1;32m     24\u001b[0m             \u001b[0;32mfor\u001b[0m \u001b[0mb\u001b[0m \u001b[0;32min\u001b[0m \u001b[0mrange\u001b[0m\u001b[0;34m(\u001b[0m\u001b[0mnbins\u001b[0m\u001b[0;34m)\u001b[0m\u001b[0;34m:\u001b[0m\u001b[0;34m\u001b[0m\u001b[0;34m\u001b[0m\u001b[0m\n\u001b[0;32m---> 25\u001b[0;31m                 \u001b[0mprecip_mask\u001b[0m \u001b[0;34m=\u001b[0m \u001b[0mextract_mask_region\u001b[0m\u001b[0;34m(\u001b[0m\u001b[0mprecip\u001b[0m\u001b[0;34m,\u001b[0m\u001b[0mlatpt\u001b[0m\u001b[0;34m,\u001b[0m\u001b[0mlonpt\u001b[0m\u001b[0;34m,\u001b[0m\u001b[0mmin_dist\u001b[0m\u001b[0;34m[\u001b[0m\u001b[0mb\u001b[0m\u001b[0;34m]\u001b[0m\u001b[0;34m,\u001b[0m\u001b[0mmax_dist\u001b[0m\u001b[0;34m[\u001b[0m\u001b[0mb\u001b[0m\u001b[0;34m]\u001b[0m\u001b[0;34m)\u001b[0m\u001b[0;34m\u001b[0m\u001b[0;34m\u001b[0m\u001b[0m\n\u001b[0m\u001b[1;32m     26\u001b[0m                 \u001b[0mthis_distcorr\u001b[0m \u001b[0;34m=\u001b[0m \u001b[0mdask\u001b[0m\u001b[0;34m.\u001b[0m\u001b[0mdelayed\u001b[0m\u001b[0;34m(\u001b[0m\u001b[0mcompute_gridcorr_grid\u001b[0m\u001b[0;34m)\u001b[0m\u001b[0;34m(\u001b[0m\u001b[0mprecip\u001b[0m\u001b[0;34m[\u001b[0m\u001b[0;34m:\u001b[0m\u001b[0;34m,\u001b[0m\u001b[0my\u001b[0m\u001b[0;34m,\u001b[0m\u001b[0mx\u001b[0m\u001b[0;34m]\u001b[0m\u001b[0;34m,\u001b[0m\u001b[0mprecip_mask\u001b[0m\u001b[0;34m)\u001b[0m\u001b[0;34m\u001b[0m\u001b[0;34m\u001b[0m\u001b[0m\n\u001b[1;32m     27\u001b[0m                 \u001b[0mdask_distcorr\u001b[0m\u001b[0;34m.\u001b[0m\u001b[0mappend\u001b[0m\u001b[0;34m(\u001b[0m\u001b[0mthis_distcorr\u001b[0m\u001b[0;34m)\u001b[0m\u001b[0;34m\u001b[0m\u001b[0;34m\u001b[0m\u001b[0m\n",
      "\u001b[0;32m<ipython-input-32-48ec25f10602>\u001b[0m in \u001b[0;36mextract_mask_region\u001b[0;34m(precip, centre_lat, centre_lon, dist_min, dist_max)\u001b[0m\n\u001b[1;32m     18\u001b[0m     \u001b[0mprint\u001b[0m\u001b[0;34m(\u001b[0m\u001b[0mcentre_lon\u001b[0m\u001b[0;34m,\u001b[0m\u001b[0mcentre_lat\u001b[0m\u001b[0;34m,\u001b[0m\u001b[0mdN\u001b[0m\u001b[0;34m,\u001b[0m\u001b[0mdS\u001b[0m\u001b[0;34m,\u001b[0m\u001b[0mdE\u001b[0m\u001b[0;34m,\u001b[0m\u001b[0mdW\u001b[0m\u001b[0;34m,\u001b[0m\u001b[0mcentre_lon\u001b[0m\u001b[0;34m+\u001b[0m\u001b[0mdW\u001b[0m\u001b[0;34m,\u001b[0m\u001b[0mcentre_lon\u001b[0m\u001b[0;34m+\u001b[0m\u001b[0mdE\u001b[0m\u001b[0;34m)\u001b[0m\u001b[0;34m\u001b[0m\u001b[0;34m\u001b[0m\u001b[0m\n\u001b[1;32m     19\u001b[0m \u001b[0;31m#    if lonmin <= c\u001b[0m\u001b[0;34m\u001b[0m\u001b[0;34m\u001b[0m\u001b[0;34m\u001b[0m\u001b[0m\n\u001b[0;32m---> 20\u001b[0;31m     \u001b[0msubset\u001b[0m \u001b[0;34m=\u001b[0m \u001b[0mprecip\u001b[0m\u001b[0;34m.\u001b[0m\u001b[0mintersection\u001b[0m\u001b[0;34m(\u001b[0m\u001b[0mlongitude\u001b[0m \u001b[0;34m=\u001b[0m \u001b[0;34m(\u001b[0m\u001b[0mcentre_lon\u001b[0m\u001b[0;34m+\u001b[0m\u001b[0mdW\u001b[0m\u001b[0;34m,\u001b[0m\u001b[0mcentre_lon\u001b[0m\u001b[0;34m+\u001b[0m\u001b[0mdE\u001b[0m\u001b[0;34m)\u001b[0m\u001b[0;34m,\u001b[0m\u001b[0mlatitude\u001b[0m\u001b[0;34m=\u001b[0m\u001b[0;34m(\u001b[0m\u001b[0mcentre_lat\u001b[0m\u001b[0;34m-\u001b[0m\u001b[0mdS\u001b[0m\u001b[0;34m,\u001b[0m\u001b[0mcentre_lat\u001b[0m\u001b[0;34m+\u001b[0m\u001b[0mdN\u001b[0m\u001b[0;34m)\u001b[0m\u001b[0;34m)\u001b[0m\u001b[0;34m\u001b[0m\u001b[0;34m\u001b[0m\u001b[0m\n\u001b[0m\u001b[1;32m     21\u001b[0m     \u001b[0mprint\u001b[0m\u001b[0;34m(\u001b[0m\u001b[0msubset\u001b[0m\u001b[0;34m)\u001b[0m\u001b[0;34m\u001b[0m\u001b[0;34m\u001b[0m\u001b[0m\n\u001b[1;32m     22\u001b[0m     \u001b[0mdist_mask\u001b[0m \u001b[0;34m=\u001b[0m \u001b[0mnp\u001b[0m\u001b[0;34m.\u001b[0m\u001b[0mones_like\u001b[0m\u001b[0;34m(\u001b[0m\u001b[0msubset\u001b[0m\u001b[0;34m.\u001b[0m\u001b[0mdata\u001b[0m\u001b[0;34m)\u001b[0m\u001b[0;34m\u001b[0m\u001b[0;34m\u001b[0m\u001b[0m\n",
      "\u001b[0;32m~/miniconda3/lib/python3.7/site-packages/iris/cube.py\u001b[0m in \u001b[0;36mintersection\u001b[0;34m(self, *args, **kwargs)\u001b[0m\n\u001b[1;32m   2378\u001b[0m         \u001b[0;32mfor\u001b[0m \u001b[0mname\u001b[0m\u001b[0;34m,\u001b[0m \u001b[0mvalue\u001b[0m \u001b[0;32min\u001b[0m \u001b[0msix\u001b[0m\u001b[0;34m.\u001b[0m\u001b[0miteritems\u001b[0m\u001b[0;34m(\u001b[0m\u001b[0mkwargs\u001b[0m\u001b[0;34m)\u001b[0m\u001b[0;34m:\u001b[0m\u001b[0;34m\u001b[0m\u001b[0;34m\u001b[0m\u001b[0m\n\u001b[1;32m   2379\u001b[0m             result = result._intersect(name, *value,\n\u001b[0;32m-> 2380\u001b[0;31m                                        ignore_bounds=ignore_bounds)\n\u001b[0m\u001b[1;32m   2381\u001b[0m         \u001b[0;32mreturn\u001b[0m \u001b[0mresult\u001b[0m\u001b[0;34m\u001b[0m\u001b[0;34m\u001b[0m\u001b[0m\n\u001b[1;32m   2382\u001b[0m \u001b[0;34m\u001b[0m\u001b[0m\n",
      "\u001b[0;32m~/miniconda3/lib/python3.7/site-packages/iris/cube.py\u001b[0m in \u001b[0;36m_intersect\u001b[0;34m(self, name_or_coord, minimum, maximum, min_inclusive, max_inclusive, ignore_bounds)\u001b[0m\n\u001b[1;32m   2420\u001b[0m         \u001b[0mdim\u001b[0m\u001b[0;34m,\u001b[0m \u001b[0;34m=\u001b[0m \u001b[0mself\u001b[0m\u001b[0;34m.\u001b[0m\u001b[0mcoord_dims\u001b[0m\u001b[0;34m(\u001b[0m\u001b[0mcoord\u001b[0m\u001b[0;34m)\u001b[0m\u001b[0;34m\u001b[0m\u001b[0;34m\u001b[0m\u001b[0m\n\u001b[1;32m   2421\u001b[0m         \u001b[0mkey_tuple_prefix\u001b[0m \u001b[0;34m=\u001b[0m \u001b[0;34m(\u001b[0m\u001b[0mslice\u001b[0m\u001b[0;34m(\u001b[0m\u001b[0;32mNone\u001b[0m\u001b[0;34m)\u001b[0m\u001b[0;34m,\u001b[0m\u001b[0;34m)\u001b[0m \u001b[0;34m*\u001b[0m \u001b[0mdim\u001b[0m\u001b[0;34m\u001b[0m\u001b[0;34m\u001b[0m\u001b[0m\n\u001b[0;32m-> 2422\u001b[0;31m         \u001b[0mchunks\u001b[0m \u001b[0;34m=\u001b[0m \u001b[0;34m[\u001b[0m\u001b[0mmake_chunk\u001b[0m\u001b[0;34m(\u001b[0m\u001b[0mkey\u001b[0m\u001b[0;34m)\u001b[0m \u001b[0;32mfor\u001b[0m \u001b[0mkey\u001b[0m \u001b[0;32min\u001b[0m \u001b[0msubsets\u001b[0m\u001b[0;34m]\u001b[0m\u001b[0;34m\u001b[0m\u001b[0;34m\u001b[0m\u001b[0m\n\u001b[0m\u001b[1;32m   2423\u001b[0m         \u001b[0;32mif\u001b[0m \u001b[0mlen\u001b[0m\u001b[0;34m(\u001b[0m\u001b[0mchunks\u001b[0m\u001b[0;34m)\u001b[0m \u001b[0;34m==\u001b[0m \u001b[0;36m1\u001b[0m\u001b[0;34m:\u001b[0m\u001b[0;34m\u001b[0m\u001b[0;34m\u001b[0m\u001b[0m\n\u001b[1;32m   2424\u001b[0m             \u001b[0mresult\u001b[0m \u001b[0;34m=\u001b[0m \u001b[0mchunks\u001b[0m\u001b[0;34m[\u001b[0m\u001b[0;36m0\u001b[0m\u001b[0;34m]\u001b[0m\u001b[0;34m\u001b[0m\u001b[0;34m\u001b[0m\u001b[0m\n",
      "\u001b[0;32m~/miniconda3/lib/python3.7/site-packages/iris/cube.py\u001b[0m in \u001b[0;36m<listcomp>\u001b[0;34m(.0)\u001b[0m\n\u001b[1;32m   2420\u001b[0m         \u001b[0mdim\u001b[0m\u001b[0;34m,\u001b[0m \u001b[0;34m=\u001b[0m \u001b[0mself\u001b[0m\u001b[0;34m.\u001b[0m\u001b[0mcoord_dims\u001b[0m\u001b[0;34m(\u001b[0m\u001b[0mcoord\u001b[0m\u001b[0;34m)\u001b[0m\u001b[0;34m\u001b[0m\u001b[0;34m\u001b[0m\u001b[0m\n\u001b[1;32m   2421\u001b[0m         \u001b[0mkey_tuple_prefix\u001b[0m \u001b[0;34m=\u001b[0m \u001b[0;34m(\u001b[0m\u001b[0mslice\u001b[0m\u001b[0;34m(\u001b[0m\u001b[0;32mNone\u001b[0m\u001b[0;34m)\u001b[0m\u001b[0;34m,\u001b[0m\u001b[0;34m)\u001b[0m \u001b[0;34m*\u001b[0m \u001b[0mdim\u001b[0m\u001b[0;34m\u001b[0m\u001b[0;34m\u001b[0m\u001b[0m\n\u001b[0;32m-> 2422\u001b[0;31m         \u001b[0mchunks\u001b[0m \u001b[0;34m=\u001b[0m \u001b[0;34m[\u001b[0m\u001b[0mmake_chunk\u001b[0m\u001b[0;34m(\u001b[0m\u001b[0mkey\u001b[0m\u001b[0;34m)\u001b[0m \u001b[0;32mfor\u001b[0m \u001b[0mkey\u001b[0m \u001b[0;32min\u001b[0m \u001b[0msubsets\u001b[0m\u001b[0;34m]\u001b[0m\u001b[0;34m\u001b[0m\u001b[0;34m\u001b[0m\u001b[0m\n\u001b[0m\u001b[1;32m   2423\u001b[0m         \u001b[0;32mif\u001b[0m \u001b[0mlen\u001b[0m\u001b[0;34m(\u001b[0m\u001b[0mchunks\u001b[0m\u001b[0;34m)\u001b[0m \u001b[0;34m==\u001b[0m \u001b[0;36m1\u001b[0m\u001b[0;34m:\u001b[0m\u001b[0;34m\u001b[0m\u001b[0;34m\u001b[0m\u001b[0m\n\u001b[1;32m   2424\u001b[0m             \u001b[0mresult\u001b[0m \u001b[0;34m=\u001b[0m \u001b[0mchunks\u001b[0m\u001b[0;34m[\u001b[0m\u001b[0;36m0\u001b[0m\u001b[0;34m]\u001b[0m\u001b[0;34m\u001b[0m\u001b[0;34m\u001b[0m\u001b[0m\n",
      "\u001b[0;32m~/miniconda3/lib/python3.7/site-packages/iris/cube.py\u001b[0m in \u001b[0;36mmake_chunk\u001b[0;34m(key)\u001b[0m\n\u001b[1;32m   2411\u001b[0m         \u001b[0;31m# pieces).\u001b[0m\u001b[0;34m\u001b[0m\u001b[0;34m\u001b[0m\u001b[0;34m\u001b[0m\u001b[0m\n\u001b[1;32m   2412\u001b[0m         \u001b[0;32mdef\u001b[0m \u001b[0mmake_chunk\u001b[0m\u001b[0;34m(\u001b[0m\u001b[0mkey\u001b[0m\u001b[0;34m)\u001b[0m\u001b[0;34m:\u001b[0m\u001b[0;34m\u001b[0m\u001b[0;34m\u001b[0m\u001b[0m\n\u001b[0;32m-> 2413\u001b[0;31m             \u001b[0mchunk\u001b[0m \u001b[0;34m=\u001b[0m \u001b[0mself\u001b[0m\u001b[0;34m[\u001b[0m\u001b[0mkey_tuple_prefix\u001b[0m \u001b[0;34m+\u001b[0m \u001b[0;34m(\u001b[0m\u001b[0mkey\u001b[0m\u001b[0;34m,\u001b[0m\u001b[0;34m)\u001b[0m\u001b[0;34m]\u001b[0m\u001b[0;34m\u001b[0m\u001b[0;34m\u001b[0m\u001b[0m\n\u001b[0m\u001b[1;32m   2414\u001b[0m             \u001b[0mchunk_coord\u001b[0m \u001b[0;34m=\u001b[0m \u001b[0mchunk\u001b[0m\u001b[0;34m.\u001b[0m\u001b[0mcoord\u001b[0m\u001b[0;34m(\u001b[0m\u001b[0mcoord\u001b[0m\u001b[0;34m)\u001b[0m\u001b[0;34m\u001b[0m\u001b[0;34m\u001b[0m\u001b[0m\n\u001b[1;32m   2415\u001b[0m             \u001b[0mchunk_coord\u001b[0m\u001b[0;34m.\u001b[0m\u001b[0mpoints\u001b[0m \u001b[0;34m=\u001b[0m \u001b[0mpoints\u001b[0m\u001b[0;34m[\u001b[0m\u001b[0;34m(\u001b[0m\u001b[0mkey\u001b[0m\u001b[0;34m,\u001b[0m\u001b[0;34m)\u001b[0m\u001b[0;34m]\u001b[0m\u001b[0;34m\u001b[0m\u001b[0;34m\u001b[0m\u001b[0m\n",
      "\u001b[0;32m~/miniconda3/lib/python3.7/site-packages/iris/cube.py\u001b[0m in \u001b[0;36m__getitem__\u001b[0;34m(self, keys)\u001b[0m\n\u001b[1;32m   2182\u001b[0m \u001b[0;34m\u001b[0m\u001b[0m\n\u001b[1;32m   2183\u001b[0m         \u001b[0;31m# We don't want a view of the data, so take a copy of it.\u001b[0m\u001b[0;34m\u001b[0m\u001b[0;34m\u001b[0m\u001b[0;34m\u001b[0m\u001b[0m\n\u001b[0;32m-> 2184\u001b[0;31m         \u001b[0mdata\u001b[0m \u001b[0;34m=\u001b[0m \u001b[0mdeepcopy\u001b[0m\u001b[0;34m(\u001b[0m\u001b[0mdata\u001b[0m\u001b[0;34m)\u001b[0m\u001b[0;34m\u001b[0m\u001b[0;34m\u001b[0m\u001b[0m\n\u001b[0m\u001b[1;32m   2185\u001b[0m \u001b[0;34m\u001b[0m\u001b[0m\n\u001b[1;32m   2186\u001b[0m         \u001b[0;31m# XXX: Slicing a single item from a masked array that is masked,\u001b[0m\u001b[0;34m\u001b[0m\u001b[0;34m\u001b[0m\u001b[0;34m\u001b[0m\u001b[0m\n",
      "\u001b[0;32m~/miniconda3/lib/python3.7/copy.py\u001b[0m in \u001b[0;36mdeepcopy\u001b[0;34m(x, memo, _nil)\u001b[0m\n\u001b[1;32m    159\u001b[0m             \u001b[0mcopier\u001b[0m \u001b[0;34m=\u001b[0m \u001b[0mgetattr\u001b[0m\u001b[0;34m(\u001b[0m\u001b[0mx\u001b[0m\u001b[0;34m,\u001b[0m \u001b[0;34m\"__deepcopy__\"\u001b[0m\u001b[0;34m,\u001b[0m \u001b[0;32mNone\u001b[0m\u001b[0;34m)\u001b[0m\u001b[0;34m\u001b[0m\u001b[0;34m\u001b[0m\u001b[0m\n\u001b[1;32m    160\u001b[0m             \u001b[0;32mif\u001b[0m \u001b[0mcopier\u001b[0m\u001b[0;34m:\u001b[0m\u001b[0;34m\u001b[0m\u001b[0;34m\u001b[0m\u001b[0m\n\u001b[0;32m--> 161\u001b[0;31m                 \u001b[0my\u001b[0m \u001b[0;34m=\u001b[0m \u001b[0mcopier\u001b[0m\u001b[0;34m(\u001b[0m\u001b[0mmemo\u001b[0m\u001b[0;34m)\u001b[0m\u001b[0;34m\u001b[0m\u001b[0;34m\u001b[0m\u001b[0m\n\u001b[0m\u001b[1;32m    162\u001b[0m             \u001b[0;32melse\u001b[0m\u001b[0;34m:\u001b[0m\u001b[0;34m\u001b[0m\u001b[0;34m\u001b[0m\u001b[0m\n\u001b[1;32m    163\u001b[0m                 \u001b[0mreductor\u001b[0m \u001b[0;34m=\u001b[0m \u001b[0mdispatch_table\u001b[0m\u001b[0;34m.\u001b[0m\u001b[0mget\u001b[0m\u001b[0;34m(\u001b[0m\u001b[0mcls\u001b[0m\u001b[0;34m)\u001b[0m\u001b[0;34m\u001b[0m\u001b[0;34m\u001b[0m\u001b[0m\n",
      "\u001b[0;32m~/miniconda3/lib/python3.7/site-packages/numpy/ma/core.py\u001b[0m in \u001b[0;36m__deepcopy__\u001b[0;34m(self, memo)\u001b[0m\n\u001b[1;32m   6131\u001b[0m     \u001b[0;32mdef\u001b[0m \u001b[0m__deepcopy__\u001b[0m\u001b[0;34m(\u001b[0m\u001b[0mself\u001b[0m\u001b[0;34m,\u001b[0m \u001b[0mmemo\u001b[0m\u001b[0;34m=\u001b[0m\u001b[0;32mNone\u001b[0m\u001b[0;34m)\u001b[0m\u001b[0;34m:\u001b[0m\u001b[0;34m\u001b[0m\u001b[0;34m\u001b[0m\u001b[0m\n\u001b[1;32m   6132\u001b[0m         \u001b[0;32mfrom\u001b[0m \u001b[0mcopy\u001b[0m \u001b[0;32mimport\u001b[0m \u001b[0mdeepcopy\u001b[0m\u001b[0;34m\u001b[0m\u001b[0;34m\u001b[0m\u001b[0m\n\u001b[0;32m-> 6133\u001b[0;31m         \u001b[0mcopied\u001b[0m \u001b[0;34m=\u001b[0m \u001b[0mMaskedArray\u001b[0m\u001b[0;34m.\u001b[0m\u001b[0m__new__\u001b[0m\u001b[0;34m(\u001b[0m\u001b[0mtype\u001b[0m\u001b[0;34m(\u001b[0m\u001b[0mself\u001b[0m\u001b[0;34m)\u001b[0m\u001b[0;34m,\u001b[0m \u001b[0mself\u001b[0m\u001b[0;34m,\u001b[0m \u001b[0mcopy\u001b[0m\u001b[0;34m=\u001b[0m\u001b[0;32mTrue\u001b[0m\u001b[0;34m)\u001b[0m\u001b[0;34m\u001b[0m\u001b[0;34m\u001b[0m\u001b[0m\n\u001b[0m\u001b[1;32m   6134\u001b[0m         \u001b[0;32mif\u001b[0m \u001b[0mmemo\u001b[0m \u001b[0;32mis\u001b[0m \u001b[0;32mNone\u001b[0m\u001b[0;34m:\u001b[0m\u001b[0;34m\u001b[0m\u001b[0;34m\u001b[0m\u001b[0m\n\u001b[1;32m   6135\u001b[0m             \u001b[0mmemo\u001b[0m \u001b[0;34m=\u001b[0m \u001b[0;34m{\u001b[0m\u001b[0;34m}\u001b[0m\u001b[0;34m\u001b[0m\u001b[0;34m\u001b[0m\u001b[0m\n",
      "\u001b[0;32m~/miniconda3/lib/python3.7/site-packages/numpy/ma/core.py\u001b[0m in \u001b[0;36m__new__\u001b[0;34m(cls, data, mask, dtype, copy, subok, ndmin, fill_value, keep_mask, hard_mask, shrink, order, **options)\u001b[0m\n\u001b[1;32m   2793\u001b[0m         \u001b[0;31m# Process data.\u001b[0m\u001b[0;34m\u001b[0m\u001b[0;34m\u001b[0m\u001b[0;34m\u001b[0m\u001b[0m\n\u001b[1;32m   2794\u001b[0m         _data = np.array(data, dtype=dtype, copy=copy,\n\u001b[0;32m-> 2795\u001b[0;31m                          order=order, subok=True, ndmin=ndmin)\n\u001b[0m\u001b[1;32m   2796\u001b[0m         \u001b[0m_baseclass\u001b[0m \u001b[0;34m=\u001b[0m \u001b[0mgetattr\u001b[0m\u001b[0;34m(\u001b[0m\u001b[0mdata\u001b[0m\u001b[0;34m,\u001b[0m \u001b[0;34m'_baseclass'\u001b[0m\u001b[0;34m,\u001b[0m \u001b[0mtype\u001b[0m\u001b[0;34m(\u001b[0m\u001b[0m_data\u001b[0m\u001b[0;34m)\u001b[0m\u001b[0;34m)\u001b[0m\u001b[0;34m\u001b[0m\u001b[0;34m\u001b[0m\u001b[0m\n\u001b[1;32m   2797\u001b[0m         \u001b[0;31m# Check that we're not erasing the mask.\u001b[0m\u001b[0;34m\u001b[0m\u001b[0;34m\u001b[0m\u001b[0;34m\u001b[0m\u001b[0m\n",
      "\u001b[0;31mKeyboardInterrupt\u001b[0m: "
     ]
    }
   ],
   "source": [
    "test = compute_equalgrid_corr_global(masked_precip,[0,450,900,1350])"
   ]
  },
  {
   "cell_type": "code",
   "execution_count": 10,
   "metadata": {},
   "outputs": [
    {
     "output_type": "error",
     "ename": "NameError",
     "evalue": "name 'test' is not defined",
     "traceback": [
      "\u001b[0;31m---------------------------------------------------------------------------\u001b[0m",
      "\u001b[0;31mNameError\u001b[0m                                 Traceback (most recent call last)",
      "\u001b[0;32m<ipython-input-10-4ddfce83ccd5>\u001b[0m in \u001b[0;36m<module>\u001b[0;34m\u001b[0m\n\u001b[0;32m----> 1\u001b[0;31m \u001b[0mprint\u001b[0m\u001b[0;34m(\u001b[0m\u001b[0mtest\u001b[0m\u001b[0;34m)\u001b[0m\u001b[0;34m\u001b[0m\u001b[0;34m\u001b[0m\u001b[0m\n\u001b[0m",
      "\u001b[0;31mNameError\u001b[0m: name 'test' is not defined"
     ]
    }
   ],
   "source": [
    "print(test)"
   ]
  },
  {
   "cell_type": "code",
   "execution_count": 11,
   "metadata": {},
   "outputs": [
    {
     "output_type": "stream",
     "name": "stdout",
     "text": "---> Computing correlations for 3x3 sub-regions\n----> Info: Size of domain in native gridpoints: 120 longitude x 42 latitude.\n----> Info: There are 560 3x3 sub-regions in your input data.\n"
    }
   ],
   "source": [
    "corr_map,lag_vs_distance,autocorr,npts_map,npts = asop.compute_equalgrid_corr(masked_precip,asop_dict)"
   ]
  },
  {
   "cell_type": "code",
   "execution_count": null,
   "metadata": {},
   "outputs": [],
   "source": []
  }
 ],
 "metadata": {
  "language_info": {
   "codemirror_mode": {
    "name": "ipython",
    "version": 3
   },
   "file_extension": ".py",
   "mimetype": "text/x-python",
   "name": "python",
   "nbconvert_exporter": "python",
   "pygments_lexer": "ipython3",
   "version": "3.7.6-final"
  },
  "orig_nbformat": 2,
  "kernelspec": {
   "name": "python3",
   "display_name": "Python 3"
  }
 },
 "nbformat": 4,
 "nbformat_minor": 2
}